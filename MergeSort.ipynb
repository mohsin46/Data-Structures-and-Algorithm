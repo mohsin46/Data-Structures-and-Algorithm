{
 "cells": [
  {
   "cell_type": "code",
   "execution_count": 1,
   "id": "0b852f00",
   "metadata": {},
   "outputs": [],
   "source": [
    "# Merge sort is a sorting algorithm that uses divide and conquer strategy.\n",
    "# It divides the array into 2 subparts recursively and merges the results to get the sorted array\n",
    "\n",
    "# Consider arr = [2,4,1,7,6,3]\n",
    "# merge sort splits it into 2\n",
    "# left = [2,4,1] and right = [7,6,3]\n",
    "# split left into two\n",
    "# left = [2] and right = [4,1]\n",
    "# now left can't be split anymore so keep it as it is\n",
    "# split the right we get left = [4] and right = [1]\n",
    "# now we merge this\n",
    "# right is greater than left here so it becomes [1,4]\n",
    "# now we have to merge [2] and [1,4]\n",
    "# compare 2 with 1, 1 is smaller so 1 is added to the array and right pointer is increased\n",
    "# now compare 2 with 4, 2 is smaller so add 2 and increase left pointer\n",
    "# left array has been used completely, so add the right array element(s) that is 4\n",
    "# we get [1,2,4]\n",
    "\n",
    "# similar steps are done for the [7,6,3] subpart and we get [3,6,7]\n",
    "# now [1,2,4] and [3,6,7] are merged"
   ]
  },
  {
   "cell_type": "code",
   "execution_count": 2,
   "id": "5642b40c",
   "metadata": {},
   "outputs": [],
   "source": [
    "def merge_sort(arr):\n",
    "    # array length = 1 is our base case. Recursive call terminates over here\n",
    "    if len(arr) > 1:\n",
    "        \n",
    "        # divide array into 2 parts\n",
    "        mid = len(arr) // 2\n",
    "        \n",
    "        # the left subpart\n",
    "        left = arr[:mid]\n",
    "        \n",
    "        # right subpart\n",
    "        right = arr[mid:]\n",
    "        \n",
    "        # call merge sort recursively\n",
    "        merge_sort(left)\n",
    "        merge_sort(right)\n",
    "        \n",
    "        # merges the sorted parts\n",
    "        # i is pointer for left array\n",
    "        # j is for right array\n",
    "        # k is for the original array\n",
    "        i = j = k = 0\n",
    "        \n",
    "        # comparing the 2 arrays\n",
    "        while i < len(left) and j < len(right):\n",
    "            # if left array element is smaller, add the element to final array and increase pointer for left and original\n",
    "            if left[i] < right[j]:\n",
    "                arr[k] = left[i]\n",
    "                i += 1\n",
    "                k += 1\n",
    "                \n",
    "            # if right array element is smaller, add the element to final array and increase pointer for right and original\n",
    "            else:\n",
    "                arr[k] = right[j]\n",
    "                j += 1\n",
    "                k += 1\n",
    "        \n",
    "        # these conditions come when we have finished looping over any one of the array\n",
    "        # that is all the elements of that array have been added to our sorted array\n",
    "        \n",
    "        # if left array elements are remaining append all of them\n",
    "        while i < len(left):\n",
    "            arr[k] = left[i]\n",
    "            i += 1\n",
    "            k += 1\n",
    "            \n",
    "        # if right array elements are remaining append all of them\n",
    "        while j < len(right):\n",
    "            arr[k] = right[j]\n",
    "            j += 1\n",
    "            k += 1\n",
    "            "
   ]
  },
  {
   "cell_type": "code",
   "execution_count": 3,
   "id": "7a824b18",
   "metadata": {},
   "outputs": [],
   "source": [
    "arr = [2,4,7,1,4,3]"
   ]
  },
  {
   "cell_type": "code",
   "execution_count": 4,
   "id": "bda1d704",
   "metadata": {},
   "outputs": [],
   "source": [
    "merge_sort(arr)"
   ]
  },
  {
   "cell_type": "code",
   "execution_count": 5,
   "id": "15746b61",
   "metadata": {},
   "outputs": [
    {
     "data": {
      "text/plain": [
       "[1, 2, 3, 4, 4, 7]"
      ]
     },
     "execution_count": 5,
     "metadata": {},
     "output_type": "execute_result"
    }
   ],
   "source": [
    "arr"
   ]
  },
  {
   "cell_type": "code",
   "execution_count": null,
   "id": "50284640",
   "metadata": {},
   "outputs": [],
   "source": []
  }
 ],
 "metadata": {
  "kernelspec": {
   "display_name": "Python 3 (ipykernel)",
   "language": "python",
   "name": "python3"
  },
  "language_info": {
   "codemirror_mode": {
    "name": "ipython",
    "version": 3
   },
   "file_extension": ".py",
   "mimetype": "text/x-python",
   "name": "python",
   "nbconvert_exporter": "python",
   "pygments_lexer": "ipython3",
   "version": "3.7.9"
  }
 },
 "nbformat": 4,
 "nbformat_minor": 5
}
